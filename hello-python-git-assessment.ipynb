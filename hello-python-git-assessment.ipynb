{
 "cells": [
  {
   "cell_type": "markdown",
   "metadata": {},
   "source": [
    "# Tutorial: Hello Bash and Python\n",
    "\n",
    "In this tutorial we will familiarise ourselves with bash and python, and Notebooks (inadvertantly). Please load this notebook in `colab.research.google.com` if you do not have a local instance of JupyterHub/JupyterLab running.\n",
    "\n",
    "\n",
    "Submission:\n",
    "\n",
    "The submission for this tutorial requires a submission on Git, as well as one on SUNLearn. You will receive an email to your student account asking you to create an account on Gitlab\n",
    "\n",
    "\n"
   ]
  },
  {
   "cell_type": "code",
   "execution_count": 1,
   "metadata": {},
   "outputs": [],
   "source": [
    "import pandas as pd"
   ]
  },
  {
   "cell_type": "markdown",
   "metadata": {},
   "source": [
    "## Question 1: Bash\n",
    "\n",
    "Retrieve data and interogate it with bash before using python tooling. This is useful as you may struggle with type or malformed files and a quick interogation may reveal those issues.\n"
   ]
  },
  {
   "cell_type": "markdown",
   "metadata": {},
   "source": [
    "### Question 1.1\n",
    "\n",
    "Run the bash command `wget` to retrieve a file located at `https://storage.googleapis.com/bdt-beam/users_v.csv` [1]"
   ]
  },
  {
   "cell_type": "code",
   "execution_count": 3,
   "metadata": {},
   "outputs": [],
   "source": [
    "# python -m wget 'https://storage.googleapis.com/bdt-beam/users_v.csv'"
   ]
  },
  {
   "cell_type": "markdown",
   "metadata": {},
   "source": [
    "### Question 1.2\n",
    "\n",
    "Use a bash command to view the top ten elements of the file (to confirm that things are as you expect) [1]"
   ]
  },
  {
   "cell_type": "code",
   "execution_count": 4,
   "metadata": {},
   "outputs": [],
   "source": [
    "# head -n 10 users_v.csv"
   ]
  },
  {
   "cell_type": "markdown",
   "metadata": {},
   "source": [
    "### Question 1.3\n",
    "\n",
    "Use a bash command to determine the number of rows in the file [1]"
   ]
  },
  {
   "cell_type": "code",
   "execution_count": null,
   "metadata": {},
   "outputs": [],
   "source": [
    "# wc -l users_v.csv"
   ]
  },
  {
   "cell_type": "markdown",
   "metadata": {},
   "source": [
    "### Question 1.4\n",
    "\n",
    "Suppose the file is too large for initial exploration, let's take a quick sample so that we can continue working to see what is in the data set. Loading it into Pandas at this point will mean that we are using all that memory in any case, so let's sample it before we load it.\n",
    "\n",
    "Take a random sample of the file (limited the result to 1000 lines) and create another file called `users_sample.csv`, using only bash commands [3]\n",
    "\n",
    "Hint: redirect a stream into a the output file."
   ]
  },
  {
   "cell_type": "code",
   "execution_count": null,
   "metadata": {},
   "outputs": [],
   "source": [
    "# head -n 1 users_v.csv > users_sample.csv\n",
    "# shuf -n 1000 users_v.csv | tail -n +2 >> users_sample.csv\n",
    "# shuf -n 1000 users_v.csv > users_sample.csv\n"
   ]
  },
  {
   "cell_type": "markdown",
   "metadata": {},
   "source": [
    "### Question 1.5 \n",
    "\n",
    "* Sort your file by ascending `user_id`s [1]\n",
    "* Overwrite the current `users_sample.csv` with the ordered content [1]\n",
    "* Print the last ten lines of this file [1]"
   ]
  },
  {
   "cell_type": "code",
   "execution_count": 6,
   "metadata": {},
   "outputs": [],
   "source": [
    "# tail -n +2 users_sample.csv | sort -t, -k1,1n\n",
    "# tail -n +2 users_sample.csv | sort -t, -k1,1n > users_sample.csv\n",
    "# tail -n 10 users_sample.csv"
   ]
  },
  {
   "cell_type": "markdown",
   "metadata": {},
   "source": [
    "## Question 2: Python\n",
    "\n",
    "Perform analysis with Python"
   ]
  },
  {
   "cell_type": "markdown",
   "metadata": {},
   "source": [
    "### Question 2.1\n",
    "\n",
    "Load the original `users_v.csv` into a Pandas dataframe [1]"
   ]
  },
  {
   "cell_type": "code",
   "execution_count": 17,
   "metadata": {},
   "outputs": [],
   "source": [
    "df = pd.read_csv('users_v.csv')"
   ]
  },
  {
   "cell_type": "markdown",
   "metadata": {},
   "source": [
    "### Question 2.2\n",
    "\n",
    "Display/print the top ten lines of the dataframe [1]\n",
    "\n"
   ]
  },
  {
   "cell_type": "code",
   "execution_count": 18,
   "metadata": {},
   "outputs": [
    {
     "name": "stdout",
     "output_type": "stream",
     "text": [
      "   user_id             name  gender  age                     address  \\\n",
      "0        1     Anthony Wolf    male   73    New Rachelburgh-VA-49583   \n",
      "1        2  James Armstrong    male   56  North Jillianfort-UT-86454   \n",
      "2        3        Cody Shaw    male   75         North Anne-SC-53799   \n",
      "3        4  Sierra Hamilton  female   76     New Angelafurt-ME-46190   \n",
      "4        5      Chase Davis    male   31    South Bethmouth-WI-18562   \n",
      "5        6   Sierra Andrews  female   21          Ryanville-MI-69690   \n",
      "6        7        Ann Stone  female   41         Smithmouth-SD-17340   \n",
      "7        8     Karen Santos  female   34         Mariaville-AK-29888   \n",
      "8        9     Ronald Meyer    male   41  North Cherylhaven-NJ-04197   \n",
      "9       10    Steven Rivera    male   43          Wayneside-VT-29040   \n",
      "\n",
      "  date_joined  \n",
      "0  2019/03/13  \n",
      "1  2020/11/06  \n",
      "2  2004/05/29  \n",
      "3  2005/08/26  \n",
      "4  2018/04/30  \n",
      "5  2007/05/25  \n",
      "6  2005/01/05  \n",
      "7  2003/12/12  \n",
      "8  2015/11/14  \n",
      "9  2003/05/15  \n"
     ]
    }
   ],
   "source": [
    "print(df.head(10))"
   ]
  },
  {
   "cell_type": "markdown",
   "metadata": {},
   "source": [
    "### Question 2.3\n",
    "\n",
    "Find the age of the oldest and youngest person in the dataset [1]\n",
    "\n",
    "Hint: you can use the `print(..., ...)` function to display the two values if you construct it as two arguments"
   ]
  },
  {
   "cell_type": "code",
   "execution_count": 19,
   "metadata": {},
   "outputs": [
    {
     "name": "stdout",
     "output_type": "stream",
     "text": [
      "Oldest age in the dataset: 80\n",
      "Youngest age in the dataset: 18\n"
     ]
    }
   ],
   "source": [
    "oldest_age = df['age'].max()\n",
    "youngest_age = df['age'].min()\n",
    "\n",
    "print(f\"Oldest age in the dataset: {oldest_age}\")\n",
    "print(f\"Youngest age in the dataset: {youngest_age}\")"
   ]
  },
  {
   "cell_type": "markdown",
   "metadata": {},
   "source": [
    "### Question 2.4\n",
    "\n",
    "Draw descriptive statistics (one-liner) for the `age` column - these statistics should include `count`, `mean`, and `std` [1]\n",
    "\n",
    "Hint: this command has a parallel in R"
   ]
  },
  {
   "cell_type": "code",
   "execution_count": 20,
   "metadata": {},
   "outputs": [
    {
     "data": {
      "text/plain": [
       "count    2357.000000\n",
       "mean       49.054731\n",
       "std        18.206348\n",
       "min        18.000000\n",
       "25%        33.000000\n",
       "50%        49.000000\n",
       "75%        65.000000\n",
       "max        80.000000\n",
       "Name: age, dtype: float64"
      ]
     },
     "execution_count": 20,
     "metadata": {},
     "output_type": "execute_result"
    }
   ],
   "source": [
    "df['age'].describe()"
   ]
  },
  {
   "cell_type": "markdown",
   "metadata": {},
   "source": [
    "### Question 2.5\n",
    "\n",
    "* Using anonymous functions (`lambda`), create a `surname` column from the name column (you may assume that the last word without a space is the surname) [2]\n",
    "* Display the last 10 lines of your dataframe [1]\n"
   ]
  },
  {
   "cell_type": "code",
   "execution_count": 21,
   "metadata": {},
   "outputs": [
    {
     "name": "stdout",
     "output_type": "stream",
     "text": [
      "      user_id                 name  gender  age                    address  \\\n",
      "2347     2348     Victoria Edwards  female   68    Lake Jamesberg-NY-88824   \n",
      "2348     2349          Chris Ellis    male   46  Port Richardside-NY-77994   \n",
      "2349     2350       Kimberly Smith  female   19      East Anthony-GA-00646   \n",
      "2350     2351       William Nelson    male   67   Lake Parkerside-MN-06905   \n",
      "2351     2352          Nancy Clark  female   80        Jamesshire-AK-88437   \n",
      "2352     2353      Brittney Graham  female   40         Brownland-CO-71229   \n",
      "2353     2354      Allison Schmidt  female   43        Port Logan-MD-38588   \n",
      "2354     2355  Christopher Johnson    male   68   North Justinton-VA-32798   \n",
      "2355     2356           Mark Brown    male   67    New Kayleefurt-MA-82581   \n",
      "2356     2357      Steven Robinson    male   45         Mistytown-HI-31737   \n",
      "\n",
      "     date_joined   surname  \n",
      "2347  2001/09/03   Edwards  \n",
      "2348  2011/03/18     Ellis  \n",
      "2349  2021/06/20     Smith  \n",
      "2350  2005/12/21    Nelson  \n",
      "2351  2001/12/12     Clark  \n",
      "2352  2005/07/10    Graham  \n",
      "2353  2008/11/30   Schmidt  \n",
      "2354  2006/08/01   Johnson  \n",
      "2355  2013/11/16     Brown  \n",
      "2356  2015/03/21  Robinson  \n"
     ]
    }
   ],
   "source": [
    "df['surname'] = df['name'].apply(lambda x: x.split()[-1])\n",
    "print(df.tail(10))\n"
   ]
  },
  {
   "cell_type": "markdown",
   "metadata": {},
   "source": [
    "### Question 2.6\n",
    "\n",
    "* Convert `date_joined` to a pandas series of type `datetime`  [1]\n",
    "* Overwrite the original `date_joined` column with the result [1]"
   ]
  },
  {
   "cell_type": "code",
   "execution_count": 23,
   "metadata": {},
   "outputs": [
    {
     "name": "stdout",
     "output_type": "stream",
     "text": [
      "   user_id             name  gender  age                     address  \\\n",
      "0        1     Anthony Wolf    male   73    New Rachelburgh-VA-49583   \n",
      "1        2  James Armstrong    male   56  North Jillianfort-UT-86454   \n",
      "2        3        Cody Shaw    male   75         North Anne-SC-53799   \n",
      "3        4  Sierra Hamilton  female   76     New Angelafurt-ME-46190   \n",
      "4        5      Chase Davis    male   31    South Bethmouth-WI-18562   \n",
      "5        6   Sierra Andrews  female   21          Ryanville-MI-69690   \n",
      "6        7        Ann Stone  female   41         Smithmouth-SD-17340   \n",
      "7        8     Karen Santos  female   34         Mariaville-AK-29888   \n",
      "8        9     Ronald Meyer    male   41  North Cherylhaven-NJ-04197   \n",
      "9       10    Steven Rivera    male   43          Wayneside-VT-29040   \n",
      "\n",
      "  date_joined    surname date_joined_datetime  \n",
      "0  2019-03-13       Wolf           2019-03-13  \n",
      "1  2020-11-06  Armstrong           2020-11-06  \n",
      "2  2004-05-29       Shaw           2004-05-29  \n",
      "3  2005-08-26   Hamilton           2005-08-26  \n",
      "4  2018-04-30      Davis           2018-04-30  \n",
      "5  2007-05-25    Andrews           2007-05-25  \n",
      "6  2005-01-05      Stone           2005-01-05  \n",
      "7  2003-12-12     Santos           2003-12-12  \n",
      "8  2015-11-14      Meyer           2015-11-14  \n",
      "9  2003-05-15     Rivera           2003-05-15  \n"
     ]
    }
   ],
   "source": [
    "df['date_joined_datetime'] = pd.to_datetime(df['date_joined'])\n",
    "df['date_joined'] = df['date_joined_datetime']\n",
    "print(df.head(10))"
   ]
  },
  {
   "cell_type": "code",
   "execution_count": null,
   "metadata": {},
   "outputs": [],
   "source": []
  },
  {
   "cell_type": "markdown",
   "metadata": {},
   "source": [
    "## Question 3: Git\n",
    "\n",
    "Push your notebook to Git. If you don't have any Git tooling installed on your machines, download a preferred tool.\n",
    "\n",
    " * Create a repository (named `day1-tutorial`) on Gitlab (check your student email for sign-up/membership request to Gitlab) [1]\n",
    " * Push this notebook to that repository [1]"
   ]
  },
  {
   "cell_type": "code",
   "execution_count": null,
   "metadata": {},
   "outputs": [],
   "source": []
  },
  {
   "cell_type": "markdown",
   "metadata": {},
   "source": [
    "## The End\n",
    "\n",
    "Now that it is a datetime, we can how many users signed up/registered."
   ]
  },
  {
   "cell_type": "code",
   "execution_count": null,
   "metadata": {},
   "outputs": [],
   "source": [
    "import matplotlib\n",
    "\n",
    "%matplotlib inline \n",
    "\n",
    "df.user_id.groupby([df.date_joined.dt.year]).count().plot(kind=\"bar\")"
   ]
  },
  {
   "cell_type": "code",
   "execution_count": null,
   "metadata": {},
   "outputs": [],
   "source": []
  }
 ],
 "metadata": {
  "kernelspec": {
   "display_name": "DataScience",
   "language": "python",
   "name": "python3"
  },
  "language_info": {
   "codemirror_mode": {
    "name": "ipython",
    "version": 3
   },
   "file_extension": ".py",
   "mimetype": "text/x-python",
   "name": "python",
   "nbconvert_exporter": "python",
   "pygments_lexer": "ipython3",
   "version": "3.8.16"
  }
 },
 "nbformat": 4,
 "nbformat_minor": 4
}
